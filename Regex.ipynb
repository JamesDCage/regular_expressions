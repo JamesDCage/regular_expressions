{
 "cells": [
  {
   "cell_type": "markdown",
   "source": [
    "# Regular Expressions Exercises\r\n",
    "\r\n",
    "Idea: Implement the exercises in regexone.com using python in this notebook.\r\n",
    "\r\n",
    "Idea: return all sentences in the works of Charles Dickens that include the word \"butter\". Or more complex stuff.\r\n",
    "\r\n"
   ],
   "metadata": {}
  },
  {
   "cell_type": "code",
   "execution_count": 1,
   "source": [],
   "outputs": [
    {
     "output_type": "stream",
     "name": "stdout",
     "text": [
      "hello world\n"
     ]
    }
   ],
   "metadata": {}
  }
 ],
 "metadata": {
  "orig_nbformat": 4,
  "language_info": {
   "name": "python",
   "version": "3.9.7",
   "mimetype": "text/x-python",
   "codemirror_mode": {
    "name": "ipython",
    "version": 3
   },
   "pygments_lexer": "ipython3",
   "nbconvert_exporter": "python",
   "file_extension": ".py"
  },
  "kernelspec": {
   "name": "python3",
   "display_name": "Python 3.9.7 64-bit (windows store)"
  },
  "interpreter": {
   "hash": "c0a7a50c26b8acf39904405ea7af1b7d3739c0bf9edf2324f48ef1b92ed6034b"
  }
 },
 "nbformat": 4,
 "nbformat_minor": 2
}