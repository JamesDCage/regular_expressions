{
 "cells": [
  {
   "cell_type": "markdown",
   "source": [
    "# Regular Expressions Exercises\r\n",
    "\r\n",
    "[Markdown Cheatsheet](https://www.markdownguide.org/cheat-sheet/)\r\n",
    "\r\n",
    "Implements the exercises in [regexone.com](https://regexone.com/references/python).\r\n",
    "\r\n",
    "Idea: return all sentences in the works of Charles Dickens that include the word \"butter\". Or more complex stuff.\r\n",
    "\r\n"
   ],
   "metadata": {}
  },
  {
   "cell_type": "code",
   "execution_count": 9,
   "source": [
    "import re\r\n"
   ],
   "outputs": [],
   "metadata": {}
  },
  {
   "cell_type": "code",
   "execution_count": 10,
   "source": [
    "# Lets use a regular expression to match a date string. Ignore\r\n",
    "# the output since we are just testing if the regex matches.\r\n",
    "regex = r\"([a-zA-Z]+) (\\d+)\"\r\n",
    "if re.search(regex, \"June 24\"):\r\n",
    "    # Indeed, the expression \"([a-zA-Z]+) (\\d+)\" matches the date string\r\n",
    "    \r\n",
    "    # If we want, we can use the MatchObject's start() and end() methods \r\n",
    "    # to retrieve where the pattern matches in the input string, and the \r\n",
    "    # group() method to get all the matches and captured groups.\r\n",
    "    match = re.search(regex, \"June 24\")\r\n",
    "    \r\n",
    "    # See output of this cell. Matchesat the beginning and end of the string\r\n",
    "    print(\"Match at index %s, %s\" % (match.start(), match.end()))\r\n",
    "    \r\n",
    "    # The groups contain the matched values.  In particular:\r\n",
    "    #    match.group(0) always returns the fully matched string\r\n",
    "    #    match.group(1), match.group(2), ... will return the capture\r\n",
    "    #            groups in order from left to right in the input string\r\n",
    "    #    match.group() is equivalent to match.group(0)\r\n",
    "    \r\n",
    "    # So this will print \"June 24\"\r\n",
    "    print(\"Full match: %s\" % (match.group(0)))\r\n",
    "    # So this will print \"June\"\r\n",
    "    print(\"Month: %s\" % (match.group(1)))\r\n",
    "    # So this will print \"24\"\r\n",
    "    print(\"Day: %s\" % (match.group(2)))\r\n",
    "else:\r\n",
    "    # If re.search() does not match, then None is returned\r\n",
    "    print(\"The regex pattern does not match. :(\")"
   ],
   "outputs": [
    {
     "output_type": "stream",
     "name": "stdout",
     "text": [
      "Match at index 0, 7\n",
      "Full match: June 24\n",
      "Month: June\n",
      "Day: 24\n"
     ]
    }
   ],
   "metadata": {}
  },
  {
   "cell_type": "code",
   "execution_count": 16,
   "source": [
    "# Lets use a regular expression to match a few date strings.\r\n",
    "regex = r\"[a-zA-Z]+ \\d+\"\r\n",
    "matches = re.findall(regex, \"June 24, August 9, Dec 12\")\r\n",
    "\r\n",
    "for match in matches:\r\n",
    "    print(f\"Full match: {match}\")\r\n",
    "\r\n",
    "# To capture the specific months of each date we can use the following pattern\r\n",
    "regex = r\"([a-zA-Z]+) \\d+\"\r\n",
    "matches = re.findall(regex, \"June 24, August 9, Dec 12\")\r\n",
    "\r\n",
    "for match in matches:\r\n",
    "    print(f\"Match month:{match}\")\r\n",
    "\r\n",
    "# If we need the exact positions of each match\r\n",
    "regex = r\"([a-zA-Z]+) \\d+\"\r\n",
    "matches = re.finditer(regex, \"June 24, August 9, Dec 12\")\r\n",
    "\r\n",
    "for match in matches:\r\n",
    "    print(f\"Match at index: {match.start()}, {match.end()}\")"
   ],
   "outputs": [
    {
     "output_type": "stream",
     "name": "stdout",
     "text": [
      "Full match: June 24\n",
      "Full match: August 9\n",
      "Full match: Dec 12\n",
      "Match month:June\n",
      "Match month:August\n",
      "Match month:Dec\n",
      "Match at index: 0, 7\n",
      "Match at index: 9, 17\n",
      "Match at index: 19, 25\n"
     ]
    }
   ],
   "metadata": {}
  },
  {
   "cell_type": "code",
   "execution_count": 17,
   "source": [
    "# Lets try and reverse the order of the day and month in a date \r\n",
    "# string. Notice how the replacement string also contains metacharacters\r\n",
    "# (the back references to the captured groups) so we use a raw \r\n",
    "# string for that as well.\r\n",
    "regex = r\"([a-zA-Z]+) (\\d+)\"\r\n",
    "\r\n",
    "# This will reorder the string and print:\r\n",
    "#   24 of June, 9 of August, 12 of Dec\r\n",
    "print(re.sub(regex, r\"\\2 of \\1\", \"June 24, August 9, Dec 12\"))"
   ],
   "outputs": [
    {
     "output_type": "stream",
     "name": "stdout",
     "text": [
      "24 of June, 9 of August, 12 of Dec\n"
     ]
    }
   ],
   "metadata": {}
  },
  {
   "cell_type": "code",
   "execution_count": null,
   "source": [],
   "outputs": [],
   "metadata": {}
  },
  {
   "cell_type": "code",
   "execution_count": null,
   "source": [
    "this = 50\r\n",
    "that = \"this\"\r\n",
    "the_other = lambda x: x + 2\r\n",
    "the_other(5)\r\n",
    "test_strings = [\r\n",
    "    'this is a test',\r\n",
    "    'of the emergency',\r\n",
    "    'broadcast system. This is ', \r\n",
    "    'only a test.' \r\n",
    "]\r\n",
    "\r\n",
    "\r\n"
   ],
   "outputs": [],
   "metadata": {}
  }
 ],
 "metadata": {
  "orig_nbformat": 4,
  "language_info": {
   "name": "python",
   "version": "3.9.7",
   "mimetype": "text/x-python",
   "codemirror_mode": {
    "name": "ipython",
    "version": 3
   },
   "pygments_lexer": "ipython3",
   "nbconvert_exporter": "python",
   "file_extension": ".py"
  },
  "kernelspec": {
   "name": "python3",
   "display_name": "Python 3.9.7 64-bit (windows store)"
  },
  "interpreter": {
   "hash": "c0a7a50c26b8acf39904405ea7af1b7d3739c0bf9edf2324f48ef1b92ed6034b"
  }
 },
 "nbformat": 4,
 "nbformat_minor": 2
}