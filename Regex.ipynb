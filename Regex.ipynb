{
 "cells": [
  {
   "cell_type": "markdown",
   "metadata": {},
   "source": [
    "# Regular Expressions Exercises\n",
    "\n",
    "[Markdown Cheatsheet](https://www.markdownguide.org/cheat-sheet/)\n",
    "\n",
    "Implements the exercises in [regexone.com](https://regexone.com/references/python).\n",
    "\n",
    "Idea: return all sentences in the works of Charles Dickens that include the word \"butter\". Or more complex stuff.\n",
    "\n"
   ]
  },
  {
   "cell_type": "code",
   "execution_count": 9,
   "metadata": {},
   "outputs": [],
   "source": [
    "import re\n"
   ]
  },
  {
   "cell_type": "code",
   "execution_count": 10,
   "metadata": {},
   "outputs": [
    {
     "name": "stdout",
     "output_type": "stream",
     "text": [
      "Match at index 0, 7\n",
      "Full match: June 24\n",
      "Month: June\n",
      "Day: 24\n"
     ]
    }
   ],
   "source": [
    "# Lets use a regular expression to match a date string. Ignore\n",
    "# the output since we are just testing if the regex matches.\n",
    "regex = r\"([a-zA-Z]+) (\\d+)\"\n",
    "if re.search(regex, \"June 24\"):\n",
    "    # Indeed, the expression \"([a-zA-Z]+) (\\d+)\" matches the date string\n",
    "    \n",
    "    # If we want, we can use the MatchObject's start() and end() methods \n",
    "    # to retrieve where the pattern matches in the input string, and the \n",
    "    # group() method to get all the matches and captured groups.\n",
    "    match = re.search(regex, \"June 24\")\n",
    "    \n",
    "    # See output of this cell. Matchesat the beginning and end of the string\n",
    "    print(\"Match at index %s, %s\" % (match.start(), match.end()))\n",
    "    \n",
    "    # The groups contain the matched values.  In particular:\n",
    "    #    match.group(0) always returns the fully matched string\n",
    "    #    match.group(1), match.group(2), ... will return the capture\n",
    "    #            groups in order from left to right in the input string\n",
    "    #    match.group() is equivalent to match.group(0)\n",
    "    \n",
    "    # So this will print \"June 24\"\n",
    "    print(\"Full match: %s\" % (match.group(0)))\n",
    "    # So this will print \"June\"\n",
    "    print(\"Month: %s\" % (match.group(1)))\n",
    "    # So this will print \"24\"\n",
    "    print(\"Day: %s\" % (match.group(2)))\n",
    "else:\n",
    "    # If re.search() does not match, then None is returned\n",
    "    print(\"The regex pattern does not match. :(\")"
   ]
  },
  {
   "cell_type": "code",
   "execution_count": 16,
   "metadata": {},
   "outputs": [
    {
     "name": "stdout",
     "output_type": "stream",
     "text": [
      "Full match: June 24\n",
      "Full match: August 9\n",
      "Full match: Dec 12\n",
      "Match month:June\n",
      "Match month:August\n",
      "Match month:Dec\n",
      "Match at index: 0, 7\n",
      "Match at index: 9, 17\n",
      "Match at index: 19, 25\n"
     ]
    }
   ],
   "source": [
    "# Lets use a regular expression to match a few date strings.\n",
    "regex = r\"[a-zA-Z]+ \\d+\"\n",
    "matches = re.findall(regex, \"June 24, August 9, Dec 12\")\n",
    "\n",
    "for match in matches:\n",
    "    print(f\"Full match: {match}\")\n",
    "\n",
    "# To capture the specific months of each date we can use the following pattern\n",
    "regex = r\"([a-zA-Z]+) \\d+\"\n",
    "matches = re.findall(regex, \"June 24, August 9, Dec 12\")\n",
    "\n",
    "for match in matches:\n",
    "    print(f\"Match month:{match}\")\n",
    "\n",
    "# If we need the exact positions of each match\n",
    "regex = r\"([a-zA-Z]+) \\d+\"\n",
    "matches = re.finditer(regex, \"June 24, August 9, Dec 12\")\n",
    "\n",
    "for match in matches:\n",
    "    print(f\"Match at index: {match.start()}, {match.end()}\")"
   ]
  },
  {
   "cell_type": "code",
   "execution_count": 17,
   "metadata": {},
   "outputs": [
    {
     "name": "stdout",
     "output_type": "stream",
     "text": [
      "24 of June, 9 of August, 12 of Dec\n"
     ]
    }
   ],
   "source": [
    "# Lets try and reverse the order of the day and month in a date \n",
    "# string. Notice how the replacement string also contains metacharacters\n",
    "# (the back references to the captured groups) so we use a raw \n",
    "# string for that as well.\n",
    "regex = r\"([a-zA-Z]+) (\\d+)\"\n",
    "\n",
    "# This will reorder the string and print:\n",
    "#   24 of June, 9 of August, 12 of Dec\n",
    "print(re.sub(regex, r\"\\2 of \\1\", \"June 24, August 9, Dec 12\"))"
   ]
  },
  {
   "cell_type": "code",
   "execution_count": null,
   "metadata": {},
   "outputs": [],
   "source": []
  },
  {
   "cell_type": "code",
   "execution_count": null,
   "metadata": {},
   "outputs": [],
   "source": [
    "this = 50\n",
    "that = \"this\"\n",
    "the_other = lambda x: x + 2\n",
    "the_other(5)\n",
    "test_strings = [\n",
    "    'this is a test',\n",
    "    'of the emergency',\n",
    "    'broadcast system. This is ', \n",
    "    'only a test.' \n",
    "]\n",
    "\n",
    "\n"
   ]
  }
 ],
 "metadata": {
  "interpreter": {
   "hash": "c0a7a50c26b8acf39904405ea7af1b7d3739c0bf9edf2324f48ef1b92ed6034b"
  },
  "kernelspec": {
   "display_name": "Python 3.9.7 64-bit (windows store)",
   "name": "python3"
  },
  "language_info": {
   "codemirror_mode": {
    "name": "ipython",
    "version": 3
   },
   "file_extension": ".py",
   "mimetype": "text/x-python",
   "name": "python",
   "nbconvert_exporter": "python",
   "pygments_lexer": "ipython3",
   "version": "3.9.7"
  },
  "orig_nbformat": 4
 },
 "nbformat": 4,
 "nbformat_minor": 2
}
